{
 "cells": [
  {
   "cell_type": "markdown",
   "metadata": {},
   "source": [
    "### Author : Priyanka Balasahen Navale\n",
    "\n",
    "### Mail_id : dspriyankanavale@gmail.com"
   ]
  },
  {
   "cell_type": "raw",
   "metadata": {},
   "source": []
  },
  {
   "cell_type": "markdown",
   "metadata": {},
   "source": [
    "<h2 style='color:blue'> Import Libraries</h2>"
   ]
  },
  {
   "cell_type": "code",
   "execution_count": 72,
   "metadata": {},
   "outputs": [],
   "source": [
    "import pandas as pd\n",
    "import numpy as np\n",
    "import seaborn as sns\n",
    "import matplotlib.pyplot as plt\n",
    "%matplotlib inline\n",
    "import time\n",
    "from sklearn.model_selection import train_test_split\n",
    "from sklearn.ensemble import RandomForestClassifier\n",
    "from sklearn.tree import DecisionTreeClassifier\n",
    "from sklearn.linear_model import LogisticRegression\n",
    "from sklearn.neighbors import KNeighborsClassifier\n",
    "from sklearn.svm import SVC\n",
    "from sklearn.ensemble import RandomForestRegressor\n",
    "from sklearn.ensemble import GradientBoostingRegressor\n",
    "from sklearn.linear_model import LinearRegression\n",
    "from sklearn.metrics import precision_recall_fscore_support as score\n",
    "from sklearn.metrics import r2_score, confusion_matrix, accuracy_score, mean_squared_error\n",
    "from math import sqrt"
   ]
  },
  {
   "cell_type": "markdown",
   "metadata": {},
   "source": [
    "<h2 style='color:blue'> Read Dataset</h2>"
   ]
  },
  {
   "cell_type": "code",
   "execution_count": 2,
   "metadata": {},
   "outputs": [],
   "source": [
    "df = pd.read_csv('salary,satisfaction - salary,satisfaction.csv')"
   ]
  },
  {
   "cell_type": "code",
   "execution_count": 3,
   "metadata": {},
   "outputs": [
    {
     "data": {
      "text/html": [
       "<div>\n",
       "<style scoped>\n",
       "    .dataframe tbody tr th:only-of-type {\n",
       "        vertical-align: middle;\n",
       "    }\n",
       "\n",
       "    .dataframe tbody tr th {\n",
       "        vertical-align: top;\n",
       "    }\n",
       "\n",
       "    .dataframe thead th {\n",
       "        text-align: right;\n",
       "    }\n",
       "</style>\n",
       "<table border=\"1\" class=\"dataframe\">\n",
       "  <thead>\n",
       "    <tr style=\"text-align: right;\">\n",
       "      <th></th>\n",
       "      <th>id</th>\n",
       "      <th>Target_Salary</th>\n",
       "      <th>Target_Satisfied</th>\n",
       "      <th>LOAN_AMT</th>\n",
       "      <th>Business Title</th>\n",
       "      <th>Civil Service Title</th>\n",
       "      <th>Division/Work Unit</th>\n",
       "      <th>Job Description</th>\n",
       "      <th>Minimum Qual Requirements</th>\n",
       "      <th>Preferred Skills</th>\n",
       "      <th>...</th>\n",
       "      <th>homeaddress</th>\n",
       "      <th>latitude</th>\n",
       "      <th>longitude</th>\n",
       "      <th>PHONE</th>\n",
       "      <th>officeaddress</th>\n",
       "      <th>website</th>\n",
       "      <th>dateAdded</th>\n",
       "      <th>previousaddress</th>\n",
       "      <th>phones</th>\n",
       "      <th>CrimeTime</th>\n",
       "    </tr>\n",
       "  </thead>\n",
       "  <tbody>\n",
       "    <tr>\n",
       "      <th>0</th>\n",
       "      <td>68407277</td>\n",
       "      <td>42405.00</td>\n",
       "      <td>0</td>\n",
       "      <td>$3,600.00</td>\n",
       "      <td>Account Manager</td>\n",
       "      <td>CONTRACT REVIEWER (OFFICE OF L</td>\n",
       "      <td>Strategy &amp; Analytics</td>\n",
       "      <td>Division of Economic &amp; Financial Opportunity (...</td>\n",
       "      <td>1.\\tA baccalaureate degree from an accredited ...</td>\n",
       "      <td>•\\tExcellent interpersonal and organizational ...</td>\n",
       "      <td>...</td>\n",
       "      <td>346 W Magnolia Ave Auburn, AL 36832 US</td>\n",
       "      <td>32.606813</td>\n",
       "      <td>-85.487328</td>\n",
       "      <td>(91) 555 22 82</td>\n",
       "      <td>PO Box 4653, Stockton, California, 95204</td>\n",
       "      <td>http://www.valleybrew.com/</td>\n",
       "      <td>2016-04-22T02:47:48Z</td>\n",
       "      <td>1045 San Pablo Ave</td>\n",
       "      <td>(510) 528-2375</td>\n",
       "      <td>23:30:00</td>\n",
       "    </tr>\n",
       "    <tr>\n",
       "      <th>1</th>\n",
       "      <td>68355089</td>\n",
       "      <td>60740.00</td>\n",
       "      <td>1</td>\n",
       "      <td>$24,700.00</td>\n",
       "      <td>EXECUTIVE DIRECTOR, BUSINESS DEVELOPMENT</td>\n",
       "      <td>ADMINISTRATIVE BUSINESS PROMOT</td>\n",
       "      <td>Tech Talent Pipeline</td>\n",
       "      <td>The New York City Department of Small Business...</td>\n",
       "      <td>1. A baccalaureate degree from an accredited c...</td>\n",
       "      <td>NaN</td>\n",
       "      <td>...</td>\n",
       "      <td>300 20th St S Birmingham, AL 35233 US</td>\n",
       "      <td>33.509722</td>\n",
       "      <td>-86.802756</td>\n",
       "      <td>NaN</td>\n",
       "      <td>157 Adams St., Stockton, California, 95204</td>\n",
       "      <td>http://www.valleybrew.com/</td>\n",
       "      <td>2016-04-22T02:47:48Z</td>\n",
       "      <td>1045 San Pablo Ave</td>\n",
       "      <td>(510) 528-2375</td>\n",
       "      <td>23:00:00</td>\n",
       "    </tr>\n",
       "    <tr>\n",
       "      <th>2</th>\n",
       "      <td>68341763</td>\n",
       "      <td>51907.68</td>\n",
       "      <td>0</td>\n",
       "      <td>$20,000.00</td>\n",
       "      <td>Maintenance Worker - Technical Services-Heatin...</td>\n",
       "      <td>MAINTENANCE WORKER</td>\n",
       "      <td>Management Services Department</td>\n",
       "      <td>Under direct supervision, assist in the routin...</td>\n",
       "      <td>1. Three years of full-time satisfactory exper...</td>\n",
       "      <td>1.  A High School Diploma or GED.  2.  CDL Dri...</td>\n",
       "      <td>...</td>\n",
       "      <td>3220 Morrow Rd Birmingham, AL 35235 US</td>\n",
       "      <td>33.595581</td>\n",
       "      <td>-86.647437</td>\n",
       "      <td>NaN</td>\n",
       "      <td>1950 W Freemont, Stockton, California, 95203</td>\n",
       "      <td>http://www.valleybrew.com/</td>\n",
       "      <td>2016-04-22T02:47:48Z</td>\n",
       "      <td>1045 San Pablo Ave</td>\n",
       "      <td>(510) 528-2375</td>\n",
       "      <td>22:53:00</td>\n",
       "    </tr>\n",
       "    <tr>\n",
       "      <th>3</th>\n",
       "      <td>66310712</td>\n",
       "      <td>51907.68</td>\n",
       "      <td>0</td>\n",
       "      <td>$35,000.00</td>\n",
       "      <td>Maintenance Worker - Technical Services-Heatin...</td>\n",
       "      <td>MAINTENANCE WORKER</td>\n",
       "      <td>Management Services Department</td>\n",
       "      <td>Under direct supervision, assist in the routin...</td>\n",
       "      <td>1. Three years of full-time satisfactory exper...</td>\n",
       "      <td>1.  A High School Diploma or GED.  2.  CDL Dri...</td>\n",
       "      <td>...</td>\n",
       "      <td>4719 Highway 280 Birmingham, AL 35242 US</td>\n",
       "      <td>33.422582</td>\n",
       "      <td>-86.698279</td>\n",
       "      <td>2125557818</td>\n",
       "      <td>102 S. State St., Ukiah, California, 95482</td>\n",
       "      <td>http://www.ukiahbrewingco.com/</td>\n",
       "      <td>2016-04-22T02:47:48Z</td>\n",
       "      <td>1045 San Pablo Ave</td>\n",
       "      <td>(510) 528-2375</td>\n",
       "      <td>22:50:00</td>\n",
       "    </tr>\n",
       "    <tr>\n",
       "      <th>4</th>\n",
       "      <td>68476807</td>\n",
       "      <td>35.00</td>\n",
       "      <td>1</td>\n",
       "      <td>$10,400.00</td>\n",
       "      <td>Temporary Painter</td>\n",
       "      <td>PAINTER</td>\n",
       "      <td>Dept of Management &amp; Planning</td>\n",
       "      <td>Responsibilities of selected candidates will i...</td>\n",
       "      <td>1. Five years of full-time satisfactory experi...</td>\n",
       "      <td>NaN</td>\n",
       "      <td>...</td>\n",
       "      <td>1821 Cherokee Ave SW Cullman, AL 35055 US</td>\n",
       "      <td>34.154134</td>\n",
       "      <td>-86.841220</td>\n",
       "      <td>26.47.1555</td>\n",
       "      <td>13011 Newport Ave. #100, Tustin, California, 9...</td>\n",
       "      <td>http://www.tustinbrewery.com/</td>\n",
       "      <td>2016-04-22T02:47:48Z</td>\n",
       "      <td>1045 San Pablo Ave</td>\n",
       "      <td>(510) 528-2375</td>\n",
       "      <td>22:31:00</td>\n",
       "    </tr>\n",
       "  </tbody>\n",
       "</table>\n",
       "<p>5 rows × 83 columns</p>\n",
       "</div>"
      ],
      "text/plain": [
       "         id  Target_Salary  Target_Satisfied    LOAN_AMT  \\\n",
       "0  68407277       42405.00                 0   $3,600.00   \n",
       "1  68355089       60740.00                 1  $24,700.00   \n",
       "2  68341763       51907.68                 0  $20,000.00   \n",
       "3  66310712       51907.68                 0  $35,000.00   \n",
       "4  68476807          35.00                 1  $10,400.00   \n",
       "\n",
       "                                      Business Title  \\\n",
       "0                                    Account Manager   \n",
       "1           EXECUTIVE DIRECTOR, BUSINESS DEVELOPMENT   \n",
       "2  Maintenance Worker - Technical Services-Heatin...   \n",
       "3  Maintenance Worker - Technical Services-Heatin...   \n",
       "4                                  Temporary Painter   \n",
       "\n",
       "              Civil Service Title              Division/Work Unit  \\\n",
       "0  CONTRACT REVIEWER (OFFICE OF L            Strategy & Analytics   \n",
       "1  ADMINISTRATIVE BUSINESS PROMOT            Tech Talent Pipeline   \n",
       "2              MAINTENANCE WORKER  Management Services Department   \n",
       "3              MAINTENANCE WORKER  Management Services Department   \n",
       "4                         PAINTER   Dept of Management & Planning   \n",
       "\n",
       "                                     Job Description  \\\n",
       "0  Division of Economic & Financial Opportunity (...   \n",
       "1  The New York City Department of Small Business...   \n",
       "2  Under direct supervision, assist in the routin...   \n",
       "3  Under direct supervision, assist in the routin...   \n",
       "4  Responsibilities of selected candidates will i...   \n",
       "\n",
       "                           Minimum Qual Requirements  \\\n",
       "0  1.\\tA baccalaureate degree from an accredited ...   \n",
       "1  1. A baccalaureate degree from an accredited c...   \n",
       "2  1. Three years of full-time satisfactory exper...   \n",
       "3  1. Three years of full-time satisfactory exper...   \n",
       "4  1. Five years of full-time satisfactory experi...   \n",
       "\n",
       "                                    Preferred Skills  ...  \\\n",
       "0  •\\tExcellent interpersonal and organizational ...  ...   \n",
       "1                                                NaN  ...   \n",
       "2  1.  A High School Diploma or GED.  2.  CDL Dri...  ...   \n",
       "3  1.  A High School Diploma or GED.  2.  CDL Dri...  ...   \n",
       "4                                                NaN  ...   \n",
       "\n",
       "                                 homeaddress   latitude  longitude  \\\n",
       "0     346 W Magnolia Ave Auburn, AL 36832 US  32.606813 -85.487328   \n",
       "1      300 20th St S Birmingham, AL 35233 US  33.509722 -86.802756   \n",
       "2     3220 Morrow Rd Birmingham, AL 35235 US  33.595581 -86.647437   \n",
       "3   4719 Highway 280 Birmingham, AL 35242 US  33.422582 -86.698279   \n",
       "4  1821 Cherokee Ave SW Cullman, AL 35055 US  34.154134 -86.841220   \n",
       "\n",
       "            PHONE                                      officeaddress  \\\n",
       "0  (91) 555 22 82           PO Box 4653, Stockton, California, 95204   \n",
       "1             NaN         157 Adams St., Stockton, California, 95204   \n",
       "2             NaN       1950 W Freemont, Stockton, California, 95203   \n",
       "3      2125557818         102 S. State St., Ukiah, California, 95482   \n",
       "4      26.47.1555  13011 Newport Ave. #100, Tustin, California, 9...   \n",
       "\n",
       "                          website             dateAdded     previousaddress  \\\n",
       "0      http://www.valleybrew.com/  2016-04-22T02:47:48Z  1045 San Pablo Ave   \n",
       "1      http://www.valleybrew.com/  2016-04-22T02:47:48Z  1045 San Pablo Ave   \n",
       "2      http://www.valleybrew.com/  2016-04-22T02:47:48Z  1045 San Pablo Ave   \n",
       "3  http://www.ukiahbrewingco.com/  2016-04-22T02:47:48Z  1045 San Pablo Ave   \n",
       "4   http://www.tustinbrewery.com/  2016-04-22T02:47:48Z  1045 San Pablo Ave   \n",
       "\n",
       "           phones CrimeTime  \n",
       "0  (510) 528-2375  23:30:00  \n",
       "1  (510) 528-2375  23:00:00  \n",
       "2  (510) 528-2375  22:53:00  \n",
       "3  (510) 528-2375  22:50:00  \n",
       "4  (510) 528-2375  22:31:00  \n",
       "\n",
       "[5 rows x 83 columns]"
      ]
     },
     "execution_count": 3,
     "metadata": {},
     "output_type": "execute_result"
    }
   ],
   "source": [
    "# showes first five rows of data\n",
    "df.head()"
   ]
  },
  {
   "cell_type": "code",
   "execution_count": 4,
   "metadata": {},
   "outputs": [
    {
     "data": {
      "text/plain": [
       "(2946, 83)"
      ]
     },
     "execution_count": 4,
     "metadata": {},
     "output_type": "execute_result"
    }
   ],
   "source": [
    "# find how many rows and columns in our dataframe\n",
    "df.shape"
   ]
  },
  {
   "cell_type": "code",
   "execution_count": 5,
   "metadata": {},
   "outputs": [
    {
     "data": {
      "text/plain": [
       "pandas.core.frame.DataFrame"
      ]
     },
     "execution_count": 5,
     "metadata": {},
     "output_type": "execute_result"
    }
   ],
   "source": [
    "# identify type of our dataframe \n",
    "type(df)"
   ]
  },
  {
   "cell_type": "code",
   "execution_count": 6,
   "metadata": {},
   "outputs": [
    {
     "name": "stdout",
     "output_type": "stream",
     "text": [
      "<class 'pandas.core.frame.DataFrame'>\n",
      "RangeIndex: 2946 entries, 0 to 2945\n",
      "Data columns (total 83 columns):\n",
      " #   Column                      Non-Null Count  Dtype  \n",
      "---  ------                      --------------  -----  \n",
      " 0   id                          2946 non-null   int64  \n",
      " 1   Target_Salary               2946 non-null   float64\n",
      " 2   Target_Satisfied            2946 non-null   int64  \n",
      " 3   LOAN_AMT                    2946 non-null   object \n",
      " 4   Business Title              2946 non-null   object \n",
      " 5   Civil Service Title         2946 non-null   object \n",
      " 6   Division/Work Unit          2946 non-null   object \n",
      " 7   Job Description             2946 non-null   object \n",
      " 8   Minimum Qual Requirements   2926 non-null   object \n",
      " 9   Preferred Skills            2553 non-null   object \n",
      " 10  Additional Information      1854 non-null   object \n",
      " 11  To Apply                    2945 non-null   object \n",
      " 12  Hours/Shift                 884 non-null    object \n",
      " 13  Residency Requirement       2942 non-null   object \n",
      " 14  Posting Date                2942 non-null   object \n",
      " 15  Posting Updated             2942 non-null   object \n",
      " 16  Process Date                2942 non-null   object \n",
      " 17  FormalEducation             2894 non-null   object \n",
      " 18  UndergradMajor              2624 non-null   object \n",
      " 19  CompanySize                 2946 non-null   object \n",
      " 20  DevType                     2901 non-null   object \n",
      " 21  YearsCoding                 2943 non-null   object \n",
      " 22  YearsCodingProf             2538 non-null   object \n",
      " 23  HopeFiveYears               2477 non-null   object \n",
      " 24  JobSearchStatus             2511 non-null   object \n",
      " 25  LastNewJob                  2499 non-null   object \n",
      " 26  UpdateCV                    2089 non-null   object \n",
      " 27  CommunicationTools          2023 non-null   object \n",
      " 28  TimeFullyProductive         2052 non-null   object \n",
      " 29  EducationTypes              2128 non-null   object \n",
      " 30  SelfTaughtTypes             1812 non-null   object \n",
      " 31  TimeAfterBootcamp           221 non-null    object \n",
      " 32  HackathonReasons            849 non-null    object \n",
      " 33  AgreeDisagree1              2133 non-null   object \n",
      " 34  AgreeDisagree2              2133 non-null   object \n",
      " 35  AgreeDisagree3              2139 non-null   object \n",
      " 36  LanguageWorkedWith          2447 non-null   object \n",
      " 37  LanguageDesireNextYear      2279 non-null   object \n",
      " 38  DatabaseWorkedWith          2130 non-null   object \n",
      " 39  DatabaseDesireNextYear      1831 non-null   object \n",
      " 40  PlatformWorkedWith          2070 non-null   object \n",
      " 41  PlatformDesireNextYear      1909 non-null   object \n",
      " 42  FrameworkWorkedWith         1633 non-null   object \n",
      " 43  FrameworkDesireNextYear     1731 non-null   object \n",
      " 44  IDE                         2360 non-null   object \n",
      " 45  OperatingSystem             2377 non-null   object \n",
      " 46  Methodology                 1991 non-null   object \n",
      " 47  VersionControl              2332 non-null   object \n",
      " 48  CheckInCode                 2319 non-null   object \n",
      " 49  AIDangerous                 2000 non-null   object \n",
      " 50  AIInteresting               2076 non-null   object \n",
      " 51  AIResponsible               2070 non-null   object \n",
      " 52  AIFuture                    2196 non-null   object \n",
      " 53  Age                         2027 non-null   object \n",
      " 54  term                        2946 non-null   object \n",
      " 55  loan_status                 2946 non-null   object \n",
      " 56  pymnt_plan                  2946 non-null   object \n",
      " 57  orignal_website_directory   2946 non-null   object \n",
      " 58  purpose                     2946 non-null   object \n",
      " 59  title                       2882 non-null   object \n",
      " 60  zip_code                    2946 non-null   object \n",
      " 61  addr_state                  2946 non-null   object \n",
      " 62  dti                         2946 non-null   float64\n",
      " 63  earliest_cr_line            2946 non-null   object \n",
      " 64  last_pymnt_d                2946 non-null   object \n",
      " 65  last_pymnt_amnt             2946 non-null   float64\n",
      " 66  next_pymnt_d                336 non-null    object \n",
      " 67  last_credit_pull_d          2946 non-null   object \n",
      " 68  Time                        2946 non-null   object \n",
      " 69  emp_length                  715 non-null    object \n",
      " 70  your_favoritearticle_today  2945 non-null   object \n",
      " 71  url                         2946 non-null   object \n",
      " 72  Email                       1941 non-null   object \n",
      " 73  homeaddress                 2629 non-null   object \n",
      " 74  latitude                    2629 non-null   float64\n",
      " 75  longitude                   2629 non-null   float64\n",
      " 76  PHONE                       715 non-null    object \n",
      " 77  officeaddress               2407 non-null   object \n",
      " 78  website                     2399 non-null   object \n",
      " 79  dateAdded                   2946 non-null   object \n",
      " 80  previousaddress             2946 non-null   object \n",
      " 81  phones                      2946 non-null   object \n",
      " 82  CrimeTime                   2946 non-null   object \n",
      "dtypes: float64(5), int64(2), object(76)\n",
      "memory usage: 1.0+ MB\n"
     ]
    }
   ],
   "source": [
    "# showes null value and data type of perticular table\n",
    "df.info()"
   ]
  },
  {
   "cell_type": "code",
   "execution_count": 7,
   "metadata": {
    "scrolled": false
   },
   "outputs": [
    {
     "data": {
      "text/plain": [
       "id                    0\n",
       "Target_Salary         0\n",
       "Target_Satisfied      0\n",
       "LOAN_AMT              0\n",
       "Business Title        0\n",
       "                   ... \n",
       "website             547\n",
       "dateAdded             0\n",
       "previousaddress       0\n",
       "phones                0\n",
       "CrimeTime             0\n",
       "Length: 83, dtype: int64"
      ]
     },
     "execution_count": 7,
     "metadata": {},
     "output_type": "execute_result"
    }
   ],
   "source": [
    "# gives the sum of all null values in perticular table\n",
    "df.isnull().sum()"
   ]
  },
  {
   "cell_type": "code",
   "execution_count": 8,
   "metadata": {
    "scrolled": true
   },
   "outputs": [
    {
     "data": {
      "text/plain": [
       "Index(['id', 'Target_Salary', 'Target_Satisfied', 'LOAN_AMT', 'Business Title',\n",
       "       'Civil Service Title', 'Division/Work Unit', 'Job Description',\n",
       "       'Minimum Qual Requirements', 'Preferred Skills',\n",
       "       'Additional Information', 'To Apply', 'Hours/Shift',\n",
       "       'Residency Requirement', 'Posting Date', 'Posting Updated',\n",
       "       'Process Date', 'FormalEducation', 'UndergradMajor', 'CompanySize',\n",
       "       'DevType', 'YearsCoding', 'YearsCodingProf', 'HopeFiveYears',\n",
       "       'JobSearchStatus', 'LastNewJob', 'UpdateCV', 'CommunicationTools',\n",
       "       'TimeFullyProductive', 'EducationTypes', 'SelfTaughtTypes',\n",
       "       'TimeAfterBootcamp', 'HackathonReasons', 'AgreeDisagree1',\n",
       "       'AgreeDisagree2', 'AgreeDisagree3', 'LanguageWorkedWith',\n",
       "       'LanguageDesireNextYear', 'DatabaseWorkedWith',\n",
       "       'DatabaseDesireNextYear', 'PlatformWorkedWith',\n",
       "       'PlatformDesireNextYear', 'FrameworkWorkedWith',\n",
       "       'FrameworkDesireNextYear', 'IDE', 'OperatingSystem', 'Methodology',\n",
       "       'VersionControl', 'CheckInCode', 'AIDangerous', 'AIInteresting',\n",
       "       'AIResponsible', 'AIFuture', 'Age', 'term', 'loan_status', 'pymnt_plan',\n",
       "       'orignal_website_directory', 'purpose', 'title', 'zip_code',\n",
       "       'addr_state', 'dti', 'earliest_cr_line', 'last_pymnt_d',\n",
       "       'last_pymnt_amnt', 'next_pymnt_d', 'last_credit_pull_d', 'Time',\n",
       "       'emp_length', 'your_favoritearticle_today', 'url', 'Email',\n",
       "       'homeaddress', 'latitude', 'longitude', 'PHONE', 'officeaddress',\n",
       "       'website', 'dateAdded', 'previousaddress', 'phones', 'CrimeTime'],\n",
       "      dtype='object')"
      ]
     },
     "execution_count": 8,
     "metadata": {},
     "output_type": "execute_result"
    }
   ],
   "source": [
    "# takes all column names which is present in our dataset \n",
    "df.columns"
   ]
  },
  {
   "cell_type": "markdown",
   "metadata": {},
   "source": [
    "<h2 style = 'color:blue'>Feature Engineering</h2>"
   ]
  },
  {
   "cell_type": "code",
   "execution_count": 9,
   "metadata": {},
   "outputs": [],
   "source": [
    "df1 = df[['id', 'Target_Salary', 'Target_Satisfied', 'LOAN_AMT','loan_status',\n",
    "       'Minimum Qual Requirements', 'Preferred Skills','To Apply',\n",
    "       'Residency Requirement','FormalEducation', 'UndergradMajor',\n",
    "       'DevType', 'YearsCoding', 'YearsCodingProf', 'HopeFiveYears',\n",
    "       'JobSearchStatus', 'LastNewJob', 'UpdateCV', 'Age', 'term','pymnt_plan',\n",
    "       'orignal_website_directory', 'purpose', 'title', 'zip_code',\n",
    "       'addr_state', 'dti', 'earliest_cr_line',\n",
    "       'last_pymnt_amnt','emp_length', 'your_favoritearticle_today', 'url','dateAdded', 'previousaddress', 'phones', 'CrimeTime']]"
   ]
  },
  {
   "cell_type": "code",
   "execution_count": 11,
   "metadata": {},
   "outputs": [
    {
     "data": {
      "text/plain": [
       "id                               0\n",
       "Target_Salary                    0\n",
       "Target_Satisfied                 0\n",
       "LOAN_AMT                         0\n",
       "loan_status                      0\n",
       "Minimum Qual Requirements       20\n",
       "Preferred Skills               393\n",
       "To Apply                         1\n",
       "Residency Requirement            4\n",
       "FormalEducation                 52\n",
       "UndergradMajor                 322\n",
       "DevType                         45\n",
       "YearsCoding                      3\n",
       "YearsCodingProf                408\n",
       "HopeFiveYears                  469\n",
       "JobSearchStatus                435\n",
       "LastNewJob                     447\n",
       "UpdateCV                       857\n",
       "Age                            919\n",
       "term                             0\n",
       "pymnt_plan                       0\n",
       "orignal_website_directory        0\n",
       "purpose                          0\n",
       "title                           64\n",
       "zip_code                         0\n",
       "addr_state                       0\n",
       "dti                              0\n",
       "earliest_cr_line                 0\n",
       "last_pymnt_amnt                  0\n",
       "emp_length                    2231\n",
       "your_favoritearticle_today       1\n",
       "url                              0\n",
       "dateAdded                        0\n",
       "previousaddress                  0\n",
       "phones                           0\n",
       "CrimeTime                        0\n",
       "dtype: int64"
      ]
     },
     "execution_count": 11,
     "metadata": {},
     "output_type": "execute_result"
    }
   ],
   "source": [
    "df1.isnull().sum()"
   ]
  },
  {
   "cell_type": "markdown",
   "metadata": {},
   "source": [
    "**emp_length contain symbols like > , + and string we need to remove symbols and convert it into int**"
   ]
  },
  {
   "cell_type": "code",
   "execution_count": 12,
   "metadata": {
    "scrolled": false
   },
   "outputs": [
    {
     "data": {
      "text/plain": [
       "array(['< 1 year', nan, '10+ years', '3 years', '4 years', '6 years',\n",
       "       '1 year', '7 years', '8 years', '5 years', '2 years', '9 years'],\n",
       "      dtype=object)"
      ]
     },
     "execution_count": 12,
     "metadata": {},
     "output_type": "execute_result"
    }
   ],
   "source": [
    "df1['emp_length'].unique()"
   ]
  },
  {
   "cell_type": "code",
   "execution_count": 13,
   "metadata": {
    "scrolled": true
   },
   "outputs": [
    {
     "data": {
      "text/plain": [
       "10+ years    322\n",
       "3 years       50\n",
       "6 years       50\n",
       "< 1 year      49\n",
       "8 years       49\n",
       "2 years       48\n",
       "5 years       48\n",
       "4 years       25\n",
       "7 years       25\n",
       "1 year        25\n",
       "9 years       24\n",
       "Name: emp_length, dtype: int64"
      ]
     },
     "execution_count": 13,
     "metadata": {},
     "output_type": "execute_result"
    }
   ],
   "source": [
    "df1['emp_length'].value_counts(ascending=False)"
   ]
  },
  {
   "cell_type": "code",
   "execution_count": 14,
   "metadata": {
    "scrolled": true
   },
   "outputs": [
    {
     "name": "stderr",
     "output_type": "stream",
     "text": [
      "<ipython-input-14-d6171c016edb>:1: SettingWithCopyWarning: \n",
      "A value is trying to be set on a copy of a slice from a DataFrame.\n",
      "Try using .loc[row_indexer,col_indexer] = value instead\n",
      "\n",
      "See the caveats in the documentation: https://pandas.pydata.org/pandas-docs/stable/user_guide/indexing.html#returning-a-view-versus-a-copy\n",
      "  df1['emp_length'] = df1['emp_length'].apply(lambda x: str(x).replace ('<','') if '<' in str(x) else str(x))\n"
     ]
    }
   ],
   "source": [
    "df1['emp_length'] = df1['emp_length'].apply(lambda x: str(x).replace ('<','') if '<' in str(x) else str(x))"
   ]
  },
  {
   "cell_type": "code",
   "execution_count": 15,
   "metadata": {},
   "outputs": [
    {
     "name": "stderr",
     "output_type": "stream",
     "text": [
      "<ipython-input-15-3f33d82df773>:1: SettingWithCopyWarning: \n",
      "A value is trying to be set on a copy of a slice from a DataFrame.\n",
      "Try using .loc[row_indexer,col_indexer] = value instead\n",
      "\n",
      "See the caveats in the documentation: https://pandas.pydata.org/pandas-docs/stable/user_guide/indexing.html#returning-a-view-versus-a-copy\n",
      "  df1['emp_length'] = df1['emp_length'].apply(lambda x: str(x).replace ('+','') if '+' in str(x) else str(x))\n"
     ]
    }
   ],
   "source": [
    "df1['emp_length'] = df1['emp_length'].apply(lambda x: str(x).replace ('+','') if '+' in str(x) else str(x))"
   ]
  },
  {
   "cell_type": "code",
   "execution_count": 16,
   "metadata": {
    "scrolled": true
   },
   "outputs": [
    {
     "data": {
      "text/plain": [
       "array([' 1 year', 'nan', '10 years', '3 years', '4 years', '6 years',\n",
       "       '1 year', '7 years', '8 years', '5 years', '2 years', '9 years'],\n",
       "      dtype=object)"
      ]
     },
     "execution_count": 16,
     "metadata": {},
     "output_type": "execute_result"
    }
   ],
   "source": [
    "df1['emp_length'].unique()"
   ]
  },
  {
   "cell_type": "code",
   "execution_count": 17,
   "metadata": {},
   "outputs": [
    {
     "name": "stderr",
     "output_type": "stream",
     "text": [
      "<ipython-input-17-e6015ab16bd1>:1: SettingWithCopyWarning: \n",
      "A value is trying to be set on a copy of a slice from a DataFrame.\n",
      "Try using .loc[row_indexer,col_indexer] = value instead\n",
      "\n",
      "See the caveats in the documentation: https://pandas.pydata.org/pandas-docs/stable/user_guide/indexing.html#returning-a-view-versus-a-copy\n",
      "  df1['emp_length'] = df1['emp_length'].apply(lambda x: str(x.split(' ')[0]))\n"
     ]
    }
   ],
   "source": [
    "df1['emp_length'] = df1['emp_length'].apply(lambda x: str(x.split(' ')[0]))"
   ]
  },
  {
   "cell_type": "code",
   "execution_count": 18,
   "metadata": {},
   "outputs": [
    {
     "name": "stderr",
     "output_type": "stream",
     "text": [
      "<ipython-input-18-d10da7369d0f>:1: SettingWithCopyWarning: \n",
      "A value is trying to be set on a copy of a slice from a DataFrame.\n",
      "Try using .loc[row_indexer,col_indexer] = value instead\n",
      "\n",
      "See the caveats in the documentation: https://pandas.pydata.org/pandas-docs/stable/user_guide/indexing.html#returning-a-view-versus-a-copy\n",
      "  df1['emp_length'] = df1['emp_length'].apply(lambda x: str(x).replace ('nan','') if 'nan' in str(x) else str(x))\n"
     ]
    }
   ],
   "source": [
    "df1['emp_length'] = df1['emp_length'].apply(lambda x: str(x).replace ('nan','') if 'nan' in str(x) else str(x))"
   ]
  },
  {
   "cell_type": "code",
   "execution_count": 19,
   "metadata": {},
   "outputs": [
    {
     "data": {
      "text/plain": [
       "array(['', '10', '3', '4', '6', '1', '7', '8', '5', '2', '9'],\n",
       "      dtype=object)"
      ]
     },
     "execution_count": 19,
     "metadata": {},
     "output_type": "execute_result"
    }
   ],
   "source": [
    "df1['emp_length'].unique()"
   ]
  },
  {
   "cell_type": "code",
   "execution_count": 20,
   "metadata": {},
   "outputs": [
    {
     "name": "stderr",
     "output_type": "stream",
     "text": [
      "C:\\Users\\SHRAV\\Anaconda3\\lib\\site-packages\\pandas\\core\\generic.py:5168: SettingWithCopyWarning: \n",
      "A value is trying to be set on a copy of a slice from a DataFrame.\n",
      "Try using .loc[row_indexer,col_indexer] = value instead\n",
      "\n",
      "See the caveats in the documentation: https://pandas.pydata.org/pandas-docs/stable/user_guide/indexing.html#returning-a-view-versus-a-copy\n",
      "  self[name] = value\n"
     ]
    }
   ],
   "source": [
    "df1.emp_length = df1.emp_length.fillna(df1.emp_length.mean())"
   ]
  },
  {
   "cell_type": "code",
   "execution_count": 21,
   "metadata": {},
   "outputs": [
    {
     "data": {
      "text/plain": [
       "id                              0\n",
       "Target_Salary                   0\n",
       "Target_Satisfied                0\n",
       "LOAN_AMT                        0\n",
       "loan_status                     0\n",
       "Minimum Qual Requirements      20\n",
       "Preferred Skills              393\n",
       "To Apply                        1\n",
       "Residency Requirement           4\n",
       "FormalEducation                52\n",
       "UndergradMajor                322\n",
       "DevType                        45\n",
       "YearsCoding                     3\n",
       "YearsCodingProf               408\n",
       "HopeFiveYears                 469\n",
       "JobSearchStatus               435\n",
       "LastNewJob                    447\n",
       "UpdateCV                      857\n",
       "Age                           919\n",
       "term                            0\n",
       "pymnt_plan                      0\n",
       "orignal_website_directory       0\n",
       "purpose                         0\n",
       "title                          64\n",
       "zip_code                        0\n",
       "addr_state                      0\n",
       "dti                             0\n",
       "earliest_cr_line                0\n",
       "last_pymnt_amnt                 0\n",
       "emp_length                      0\n",
       "your_favoritearticle_today      1\n",
       "url                             0\n",
       "dateAdded                       0\n",
       "previousaddress                 0\n",
       "phones                          0\n",
       "CrimeTime                       0\n",
       "dtype: int64"
      ]
     },
     "execution_count": 21,
     "metadata": {},
     "output_type": "execute_result"
    }
   ],
   "source": [
    "df1.isnull().sum()"
   ]
  },
  {
   "cell_type": "markdown",
   "metadata": {},
   "source": [
    "**LOAN_AMT contain symbols like '$' , ',' . So we need to remove symbols and convert it into int**"
   ]
  },
  {
   "cell_type": "code",
   "execution_count": 22,
   "metadata": {
    "scrolled": true
   },
   "outputs": [
    {
     "name": "stderr",
     "output_type": "stream",
     "text": [
      "<ipython-input-22-dfe596f7bed7>:1: SettingWithCopyWarning: \n",
      "A value is trying to be set on a copy of a slice from a DataFrame.\n",
      "Try using .loc[row_indexer,col_indexer] = value instead\n",
      "\n",
      "See the caveats in the documentation: https://pandas.pydata.org/pandas-docs/stable/user_guide/indexing.html#returning-a-view-versus-a-copy\n",
      "  df1['LOAN_AMT'] = df1['LOAN_AMT'].apply(lambda x: str(x).replace ('$','') if '$' in str(x) else str(x))\n"
     ]
    }
   ],
   "source": [
    "df1['LOAN_AMT'] = df1['LOAN_AMT'].apply(lambda x: str(x).replace ('$','') if '$' in str(x) else str(x))"
   ]
  },
  {
   "cell_type": "code",
   "execution_count": 23,
   "metadata": {},
   "outputs": [
    {
     "name": "stderr",
     "output_type": "stream",
     "text": [
      "<ipython-input-23-93a6d896a14a>:1: SettingWithCopyWarning: \n",
      "A value is trying to be set on a copy of a slice from a DataFrame.\n",
      "Try using .loc[row_indexer,col_indexer] = value instead\n",
      "\n",
      "See the caveats in the documentation: https://pandas.pydata.org/pandas-docs/stable/user_guide/indexing.html#returning-a-view-versus-a-copy\n",
      "  df1['LOAN_AMT'] = df1['LOAN_AMT'].apply(lambda x: str(x).replace (',','') if ',' in str(x) else str(x))\n"
     ]
    }
   ],
   "source": [
    "df1['LOAN_AMT'] = df1['LOAN_AMT'].apply(lambda x: str(x).replace (',','') if ',' in str(x) else str(x))"
   ]
  },
  {
   "cell_type": "code",
   "execution_count": 24,
   "metadata": {
    "scrolled": true
   },
   "outputs": [
    {
     "name": "stderr",
     "output_type": "stream",
     "text": [
      "<ipython-input-24-2630f10dbbfb>:1: SettingWithCopyWarning: \n",
      "A value is trying to be set on a copy of a slice from a DataFrame.\n",
      "Try using .loc[row_indexer,col_indexer] = value instead\n",
      "\n",
      "See the caveats in the documentation: https://pandas.pydata.org/pandas-docs/stable/user_guide/indexing.html#returning-a-view-versus-a-copy\n",
      "  df1['LOAN_AMT'] = df1['LOAN_AMT'].apply(lambda x: float(x))\n"
     ]
    }
   ],
   "source": [
    "df1['LOAN_AMT'] = df1['LOAN_AMT'].apply(lambda x: float(x))"
   ]
  },
  {
   "cell_type": "code",
   "execution_count": 25,
   "metadata": {
    "scrolled": true
   },
   "outputs": [
    {
     "data": {
      "text/html": [
       "<div>\n",
       "<style scoped>\n",
       "    .dataframe tbody tr th:only-of-type {\n",
       "        vertical-align: middle;\n",
       "    }\n",
       "\n",
       "    .dataframe tbody tr th {\n",
       "        vertical-align: top;\n",
       "    }\n",
       "\n",
       "    .dataframe thead th {\n",
       "        text-align: right;\n",
       "    }\n",
       "</style>\n",
       "<table border=\"1\" class=\"dataframe\">\n",
       "  <thead>\n",
       "    <tr style=\"text-align: right;\">\n",
       "      <th></th>\n",
       "      <th>id</th>\n",
       "      <th>Target_Salary</th>\n",
       "      <th>Target_Satisfied</th>\n",
       "      <th>LOAN_AMT</th>\n",
       "      <th>loan_status</th>\n",
       "      <th>Minimum Qual Requirements</th>\n",
       "      <th>Preferred Skills</th>\n",
       "      <th>To Apply</th>\n",
       "      <th>Residency Requirement</th>\n",
       "      <th>FormalEducation</th>\n",
       "      <th>...</th>\n",
       "      <th>dti</th>\n",
       "      <th>earliest_cr_line</th>\n",
       "      <th>last_pymnt_amnt</th>\n",
       "      <th>emp_length</th>\n",
       "      <th>your_favoritearticle_today</th>\n",
       "      <th>url</th>\n",
       "      <th>dateAdded</th>\n",
       "      <th>previousaddress</th>\n",
       "      <th>phones</th>\n",
       "      <th>CrimeTime</th>\n",
       "    </tr>\n",
       "  </thead>\n",
       "  <tbody>\n",
       "    <tr>\n",
       "      <th>0</th>\n",
       "      <td>68407277</td>\n",
       "      <td>42405.00</td>\n",
       "      <td>0</td>\n",
       "      <td>3600.0</td>\n",
       "      <td>Fully Paid</td>\n",
       "      <td>1.\\tA baccalaureate degree from an accredited ...</td>\n",
       "      <td>•\\tExcellent interpersonal and organizational ...</td>\n",
       "      <td>NaN</td>\n",
       "      <td>New York City residency is generally required ...</td>\n",
       "      <td>Bachelor�s degree (BA, BS, B.Eng., etc.)</td>\n",
       "      <td>...</td>\n",
       "      <td>5.91</td>\n",
       "      <td>3-Aug</td>\n",
       "      <td>122.67</td>\n",
       "      <td></td>\n",
       "      <td>https://www.reuters.com/article/us-tesla-crash...</td>\n",
       "      <td>nobell.it/70ffb52d079109dca5664cce6f317373782/...</td>\n",
       "      <td>2016-04-22T02:47:48Z</td>\n",
       "      <td>1045 San Pablo Ave</td>\n",
       "      <td>(510) 528-2375</td>\n",
       "      <td>23:30:00</td>\n",
       "    </tr>\n",
       "    <tr>\n",
       "      <th>1</th>\n",
       "      <td>68355089</td>\n",
       "      <td>60740.00</td>\n",
       "      <td>1</td>\n",
       "      <td>24700.0</td>\n",
       "      <td>Fully Paid</td>\n",
       "      <td>1. A baccalaureate degree from an accredited c...</td>\n",
       "      <td>NaN</td>\n",
       "      <td>In addition to applying through this website, ...</td>\n",
       "      <td>New York City residency is generally required ...</td>\n",
       "      <td>Bachelor�s degree (BA, BS, B.Eng., etc.)</td>\n",
       "      <td>...</td>\n",
       "      <td>16.06</td>\n",
       "      <td>Dec-99</td>\n",
       "      <td>926.35</td>\n",
       "      <td></td>\n",
       "      <td>https://www.irishtimes.com/business/economy/un...</td>\n",
       "      <td>www.dghjdgf.com/paypal.co.uk/cycgi-bin/webscrc...</td>\n",
       "      <td>2016-04-22T02:47:48Z</td>\n",
       "      <td>1045 San Pablo Ave</td>\n",
       "      <td>(510) 528-2375</td>\n",
       "      <td>23:00:00</td>\n",
       "    </tr>\n",
       "    <tr>\n",
       "      <th>2</th>\n",
       "      <td>68341763</td>\n",
       "      <td>51907.68</td>\n",
       "      <td>0</td>\n",
       "      <td>20000.0</td>\n",
       "      <td>Fully Paid</td>\n",
       "      <td>1. Three years of full-time satisfactory exper...</td>\n",
       "      <td>1.  A High School Diploma or GED.  2.  CDL Dri...</td>\n",
       "      <td>Click the \"Apply Now\" button.</td>\n",
       "      <td>NYCHA has no residency requirements.</td>\n",
       "      <td>Associate degree</td>\n",
       "      <td>...</td>\n",
       "      <td>10.78</td>\n",
       "      <td>Aug-00</td>\n",
       "      <td>15813.30</td>\n",
       "      <td></td>\n",
       "      <td>https://www.irishtimes.com/\\t\\t\\t\\t\\t\\t\\t/life...</td>\n",
       "      <td>serviciosbys.com/paypal.cgi.bin.get-into.herf....</td>\n",
       "      <td>2016-04-22T02:47:48Z</td>\n",
       "      <td>1045 San Pablo Ave</td>\n",
       "      <td>(510) 528-2375</td>\n",
       "      <td>22:53:00</td>\n",
       "    </tr>\n",
       "    <tr>\n",
       "      <th>3</th>\n",
       "      <td>66310712</td>\n",
       "      <td>51907.68</td>\n",
       "      <td>0</td>\n",
       "      <td>35000.0</td>\n",
       "      <td>Current</td>\n",
       "      <td>1. Three years of full-time satisfactory exper...</td>\n",
       "      <td>1.  A High School Diploma or GED.  2.  CDL Dri...</td>\n",
       "      <td>Click the \"Apply Now\" button.</td>\n",
       "      <td>NYCHA has no residency requirements.</td>\n",
       "      <td>Bachelor�s degree (BA, BS, B.Eng., etc.)</td>\n",
       "      <td>...</td>\n",
       "      <td>17.06</td>\n",
       "      <td>8-Sep</td>\n",
       "      <td>829.90</td>\n",
       "      <td>10</td>\n",
       "      <td>https://www.aljazeera.com/news/2019/09/north-k...</td>\n",
       "      <td>mail.printakid.com/www.online.americanexpress....</td>\n",
       "      <td>2016-04-22T02:47:48Z</td>\n",
       "      <td>1045 San Pablo Ave</td>\n",
       "      <td>(510) 528-2375</td>\n",
       "      <td>22:50:00</td>\n",
       "    </tr>\n",
       "    <tr>\n",
       "      <th>4</th>\n",
       "      <td>68476807</td>\n",
       "      <td>35.00</td>\n",
       "      <td>1</td>\n",
       "      <td>10400.0</td>\n",
       "      <td>Fully Paid</td>\n",
       "      <td>1. Five years of full-time satisfactory experi...</td>\n",
       "      <td>NaN</td>\n",
       "      <td>Click the \"Apply Now\" button.</td>\n",
       "      <td>NYCHA has no residency requirement.</td>\n",
       "      <td>Some college/university study without earning ...</td>\n",
       "      <td>...</td>\n",
       "      <td>25.37</td>\n",
       "      <td>Jun-98</td>\n",
       "      <td>10128.96</td>\n",
       "      <td>10</td>\n",
       "      <td>https://www.bbc.co.uk/news/av/uk-scotland-4956...</td>\n",
       "      <td>thewhiskeydregs.com/wp-content/themes/widescre...</td>\n",
       "      <td>2016-04-22T02:47:48Z</td>\n",
       "      <td>1045 San Pablo Ave</td>\n",
       "      <td>(510) 528-2375</td>\n",
       "      <td>22:31:00</td>\n",
       "    </tr>\n",
       "  </tbody>\n",
       "</table>\n",
       "<p>5 rows × 36 columns</p>\n",
       "</div>"
      ],
      "text/plain": [
       "         id  Target_Salary  Target_Satisfied  LOAN_AMT loan_status  \\\n",
       "0  68407277       42405.00                 0    3600.0  Fully Paid   \n",
       "1  68355089       60740.00                 1   24700.0  Fully Paid   \n",
       "2  68341763       51907.68                 0   20000.0  Fully Paid   \n",
       "3  66310712       51907.68                 0   35000.0     Current   \n",
       "4  68476807          35.00                 1   10400.0  Fully Paid   \n",
       "\n",
       "                           Minimum Qual Requirements  \\\n",
       "0  1.\\tA baccalaureate degree from an accredited ...   \n",
       "1  1. A baccalaureate degree from an accredited c...   \n",
       "2  1. Three years of full-time satisfactory exper...   \n",
       "3  1. Three years of full-time satisfactory exper...   \n",
       "4  1. Five years of full-time satisfactory experi...   \n",
       "\n",
       "                                    Preferred Skills  \\\n",
       "0  •\\tExcellent interpersonal and organizational ...   \n",
       "1                                                NaN   \n",
       "2  1.  A High School Diploma or GED.  2.  CDL Dri...   \n",
       "3  1.  A High School Diploma or GED.  2.  CDL Dri...   \n",
       "4                                                NaN   \n",
       "\n",
       "                                            To Apply  \\\n",
       "0                                                NaN   \n",
       "1  In addition to applying through this website, ...   \n",
       "2                      Click the \"Apply Now\" button.   \n",
       "3                      Click the \"Apply Now\" button.   \n",
       "4                      Click the \"Apply Now\" button.   \n",
       "\n",
       "                               Residency Requirement  \\\n",
       "0  New York City residency is generally required ...   \n",
       "1  New York City residency is generally required ...   \n",
       "2               NYCHA has no residency requirements.   \n",
       "3               NYCHA has no residency requirements.   \n",
       "4                NYCHA has no residency requirement.   \n",
       "\n",
       "                                     FormalEducation  ...    dti  \\\n",
       "0           Bachelor�s degree (BA, BS, B.Eng., etc.)  ...   5.91   \n",
       "1           Bachelor�s degree (BA, BS, B.Eng., etc.)  ...  16.06   \n",
       "2                                   Associate degree  ...  10.78   \n",
       "3           Bachelor�s degree (BA, BS, B.Eng., etc.)  ...  17.06   \n",
       "4  Some college/university study without earning ...  ...  25.37   \n",
       "\n",
       "  earliest_cr_line last_pymnt_amnt emp_length  \\\n",
       "0            3-Aug          122.67              \n",
       "1           Dec-99          926.35              \n",
       "2           Aug-00        15813.30              \n",
       "3            8-Sep          829.90         10   \n",
       "4           Jun-98        10128.96         10   \n",
       "\n",
       "                          your_favoritearticle_today  \\\n",
       "0  https://www.reuters.com/article/us-tesla-crash...   \n",
       "1  https://www.irishtimes.com/business/economy/un...   \n",
       "2  https://www.irishtimes.com/\\t\\t\\t\\t\\t\\t\\t/life...   \n",
       "3  https://www.aljazeera.com/news/2019/09/north-k...   \n",
       "4  https://www.bbc.co.uk/news/av/uk-scotland-4956...   \n",
       "\n",
       "                                                 url             dateAdded  \\\n",
       "0  nobell.it/70ffb52d079109dca5664cce6f317373782/...  2016-04-22T02:47:48Z   \n",
       "1  www.dghjdgf.com/paypal.co.uk/cycgi-bin/webscrc...  2016-04-22T02:47:48Z   \n",
       "2  serviciosbys.com/paypal.cgi.bin.get-into.herf....  2016-04-22T02:47:48Z   \n",
       "3  mail.printakid.com/www.online.americanexpress....  2016-04-22T02:47:48Z   \n",
       "4  thewhiskeydregs.com/wp-content/themes/widescre...  2016-04-22T02:47:48Z   \n",
       "\n",
       "      previousaddress          phones CrimeTime  \n",
       "0  1045 San Pablo Ave  (510) 528-2375  23:30:00  \n",
       "1  1045 San Pablo Ave  (510) 528-2375  23:00:00  \n",
       "2  1045 San Pablo Ave  (510) 528-2375  22:53:00  \n",
       "3  1045 San Pablo Ave  (510) 528-2375  22:50:00  \n",
       "4  1045 San Pablo Ave  (510) 528-2375  22:31:00  \n",
       "\n",
       "[5 rows x 36 columns]"
      ]
     },
     "execution_count": 25,
     "metadata": {},
     "output_type": "execute_result"
    }
   ],
   "source": [
    "df1.head()"
   ]
  },
  {
   "cell_type": "code",
   "execution_count": 26,
   "metadata": {},
   "outputs": [],
   "source": [
    "# drop all null values from dataframe\n",
    "df2 = df1.dropna()       "
   ]
  },
  {
   "cell_type": "code",
   "execution_count": 27,
   "metadata": {
    "scrolled": false
   },
   "outputs": [
    {
     "data": {
      "text/plain": [
       "id                            0\n",
       "Target_Salary                 0\n",
       "Target_Satisfied              0\n",
       "LOAN_AMT                      0\n",
       "loan_status                   0\n",
       "Minimum Qual Requirements     0\n",
       "Preferred Skills              0\n",
       "To Apply                      0\n",
       "Residency Requirement         0\n",
       "FormalEducation               0\n",
       "UndergradMajor                0\n",
       "DevType                       0\n",
       "YearsCoding                   0\n",
       "YearsCodingProf               0\n",
       "HopeFiveYears                 0\n",
       "JobSearchStatus               0\n",
       "LastNewJob                    0\n",
       "UpdateCV                      0\n",
       "Age                           0\n",
       "term                          0\n",
       "pymnt_plan                    0\n",
       "orignal_website_directory     0\n",
       "purpose                       0\n",
       "title                         0\n",
       "zip_code                      0\n",
       "addr_state                    0\n",
       "dti                           0\n",
       "earliest_cr_line              0\n",
       "last_pymnt_amnt               0\n",
       "emp_length                    0\n",
       "your_favoritearticle_today    0\n",
       "url                           0\n",
       "dateAdded                     0\n",
       "previousaddress               0\n",
       "phones                        0\n",
       "CrimeTime                     0\n",
       "dtype: int64"
      ]
     },
     "execution_count": 27,
     "metadata": {},
     "output_type": "execute_result"
    }
   ],
   "source": [
    "df2.isnull().sum()        "
   ]
  },
  {
   "cell_type": "code",
   "execution_count": 28,
   "metadata": {},
   "outputs": [
    {
     "data": {
      "text/plain": [
       "(1393, 36)"
      ]
     },
     "execution_count": 28,
     "metadata": {},
     "output_type": "execute_result"
    }
   ],
   "source": [
    "df2.shape        "
   ]
  },
  {
   "cell_type": "code",
   "execution_count": 29,
   "metadata": {},
   "outputs": [
    {
     "data": {
      "text/plain": [
       "<AxesSubplot:>"
      ]
     },
     "execution_count": 29,
     "metadata": {},
     "output_type": "execute_result"
    },
    {
     "data": {
      "image/png": "[encoded data removed]",
      "text/plain": [
       "<Figure size 1152x576 with 2 Axes>"
      ]
     },
     "metadata": {
      "needs_background": "light"
     },
     "output_type": "display_data"
    }
   ],
   "source": [
    "# plot heatmap for identify the correlation of our features\n",
    "plt.figure(figsize=(16,8))\n",
    "sns.heatmap(df2.corr(), linewidth = 1, cmap = 'Reds', annot = True)"
   ]
  },
  {
   "cell_type": "markdown",
   "metadata": {},
   "source": [
    "<h2 style='color:blue'>Data Visualization</h2>"
   ]
  },
  {
   "cell_type": "code",
   "execution_count": 30,
   "metadata": {},
   "outputs": [
    {
     "name": "stderr",
     "output_type": "stream",
     "text": [
      "C:\\Users\\SHRAV\\Anaconda3\\lib\\site-packages\\seaborn\\_decorators.py:36: FutureWarning: Pass the following variable as a keyword arg: x. From version 0.12, the only valid positional argument will be `data`, and passing other arguments without an explicit keyword will result in an error or misinterpretation.\n",
      "  warnings.warn(\n"
     ]
    },
    {
     "data": {
      "text/plain": [
       "<AxesSubplot:xlabel='Target_Satisfied', ylabel='count'>"
      ]
     },
     "execution_count": 30,
     "metadata": {},
     "output_type": "execute_result"
    },
    {
     "data": {
      "image/png": "[encoded data removed]",
      "text/plain": [
       "<Figure size 432x288 with 1 Axes>"
      ]
     },
     "metadata": {
      "needs_background": "light"
     },
     "output_type": "display_data"
    }
   ],
   "source": [
    "sns.countplot(df2['Target_Satisfied'])"
   ]
  },
  {
   "cell_type": "code",
   "execution_count": 31,
   "metadata": {
    "scrolled": true
   },
   "outputs": [
    {
     "name": "stderr",
     "output_type": "stream",
     "text": [
      "C:\\Users\\SHRAV\\Anaconda3\\lib\\site-packages\\seaborn\\distributions.py:2551: FutureWarning: `distplot` is a deprecated function and will be removed in a future version. Please adapt your code to use either `displot` (a figure-level function with similar flexibility) or `histplot` (an axes-level function for histograms).\n",
      "  warnings.warn(msg, FutureWarning)\n"
     ]
    },
    {
     "data": {
      "text/plain": [
       "<AxesSubplot:xlabel='Target_Salary', ylabel='Density'>"
      ]
     },
     "execution_count": 31,
     "metadata": {},
     "output_type": "execute_result"
    },
    {
     "data": {
      "image/png": "[encoded data removed]",
      "text/plain": [
       "<Figure size 432x288 with 1 Axes>"
      ]
     },
     "metadata": {
      "needs_background": "light"
     },
     "output_type": "display_data"
    }
   ],
   "source": [
    "sns.distplot(df2['Target_Salary'])"
   ]
  },
  {
   "cell_type": "code",
   "execution_count": 32,
   "metadata": {},
   "outputs": [],
   "source": [
    "df3 = df2[['id', 'Target_Salary', 'Target_Satisfied','dti','last_pymnt_amnt','LOAN_AMT', 'loan_status']]"
   ]
  },
  {
   "cell_type": "code",
   "execution_count": 33,
   "metadata": {
    "scrolled": true
   },
   "outputs": [
    {
     "data": {
      "text/html": [
       "<div>\n",
       "<style scoped>\n",
       "    .dataframe tbody tr th:only-of-type {\n",
       "        vertical-align: middle;\n",
       "    }\n",
       "\n",
       "    .dataframe tbody tr th {\n",
       "        vertical-align: top;\n",
       "    }\n",
       "\n",
       "    .dataframe thead th {\n",
       "        text-align: right;\n",
       "    }\n",
       "</style>\n",
       "<table border=\"1\" class=\"dataframe\">\n",
       "  <thead>\n",
       "    <tr style=\"text-align: right;\">\n",
       "      <th></th>\n",
       "      <th>id</th>\n",
       "      <th>Target_Salary</th>\n",
       "      <th>Target_Satisfied</th>\n",
       "      <th>dti</th>\n",
       "      <th>last_pymnt_amnt</th>\n",
       "      <th>LOAN_AMT</th>\n",
       "      <th>loan_status</th>\n",
       "    </tr>\n",
       "  </thead>\n",
       "  <tbody>\n",
       "    <tr>\n",
       "      <th>3</th>\n",
       "      <td>66310712</td>\n",
       "      <td>51907.68</td>\n",
       "      <td>0</td>\n",
       "      <td>17.06</td>\n",
       "      <td>829.90</td>\n",
       "      <td>35000.0</td>\n",
       "      <td>Current</td>\n",
       "    </tr>\n",
       "    <tr>\n",
       "      <th>6</th>\n",
       "      <td>68476668</td>\n",
       "      <td>50598.00</td>\n",
       "      <td>0</td>\n",
       "      <td>14.67</td>\n",
       "      <td>15681.05</td>\n",
       "      <td>20000.0</td>\n",
       "      <td>Fully Paid</td>\n",
       "    </tr>\n",
       "    <tr>\n",
       "      <th>7</th>\n",
       "      <td>67275481</td>\n",
       "      <td>50623.00</td>\n",
       "      <td>1</td>\n",
       "      <td>17.61</td>\n",
       "      <td>14618.23</td>\n",
       "      <td>20000.0</td>\n",
       "      <td>Fully Paid</td>\n",
       "    </tr>\n",
       "    <tr>\n",
       "      <th>8</th>\n",
       "      <td>68466926</td>\n",
       "      <td>90000.00</td>\n",
       "      <td>0</td>\n",
       "      <td>13.07</td>\n",
       "      <td>1814.48</td>\n",
       "      <td>10000.0</td>\n",
       "      <td>Fully Paid</td>\n",
       "    </tr>\n",
       "    <tr>\n",
       "      <th>17</th>\n",
       "      <td>68577849</td>\n",
       "      <td>49492.00</td>\n",
       "      <td>0</td>\n",
       "      <td>8.68</td>\n",
       "      <td>18004.90</td>\n",
       "      <td>18000.0</td>\n",
       "      <td>Fully Paid</td>\n",
       "    </tr>\n",
       "  </tbody>\n",
       "</table>\n",
       "</div>"
      ],
      "text/plain": [
       "          id  Target_Salary  Target_Satisfied    dti  last_pymnt_amnt  \\\n",
       "3   66310712       51907.68                 0  17.06           829.90   \n",
       "6   68476668       50598.00                 0  14.67         15681.05   \n",
       "7   67275481       50623.00                 1  17.61         14618.23   \n",
       "8   68466926       90000.00                 0  13.07          1814.48   \n",
       "17  68577849       49492.00                 0   8.68         18004.90   \n",
       "\n",
       "    LOAN_AMT loan_status  \n",
       "3    35000.0     Current  \n",
       "6    20000.0  Fully Paid  \n",
       "7    20000.0  Fully Paid  \n",
       "8    10000.0  Fully Paid  \n",
       "17   18000.0  Fully Paid  "
      ]
     },
     "execution_count": 33,
     "metadata": {},
     "output_type": "execute_result"
    }
   ],
   "source": [
    "df3.head()"
   ]
  },
  {
   "cell_type": "code",
   "execution_count": 34,
   "metadata": {},
   "outputs": [],
   "source": [
    "#In our dataset column 'loan_status' is carry a catogorical value so for analysing data we want to try to simplier it into numerical form\n",
    "df3 = pd.get_dummies(df3)"
   ]
  },
  {
   "cell_type": "code",
   "execution_count": 35,
   "metadata": {},
   "outputs": [
    {
     "data": {
      "text/html": [
       "<div>\n",
       "<style scoped>\n",
       "    .dataframe tbody tr th:only-of-type {\n",
       "        vertical-align: middle;\n",
       "    }\n",
       "\n",
       "    .dataframe tbody tr th {\n",
       "        vertical-align: top;\n",
       "    }\n",
       "\n",
       "    .dataframe thead th {\n",
       "        text-align: right;\n",
       "    }\n",
       "</style>\n",
       "<table border=\"1\" class=\"dataframe\">\n",
       "  <thead>\n",
       "    <tr style=\"text-align: right;\">\n",
       "      <th></th>\n",
       "      <th>id</th>\n",
       "      <th>Target_Salary</th>\n",
       "      <th>Target_Satisfied</th>\n",
       "      <th>dti</th>\n",
       "      <th>last_pymnt_amnt</th>\n",
       "      <th>LOAN_AMT</th>\n",
       "      <th>loan_status_Charged Off</th>\n",
       "      <th>loan_status_Current</th>\n",
       "      <th>loan_status_Fully Paid</th>\n",
       "      <th>loan_status_In Grace Period</th>\n",
       "      <th>loan_status_Late (31-120 days)</th>\n",
       "    </tr>\n",
       "  </thead>\n",
       "  <tbody>\n",
       "    <tr>\n",
       "      <th>3</th>\n",
       "      <td>66310712</td>\n",
       "      <td>51907.68</td>\n",
       "      <td>0</td>\n",
       "      <td>17.06</td>\n",
       "      <td>829.90</td>\n",
       "      <td>35000.0</td>\n",
       "      <td>0</td>\n",
       "      <td>1</td>\n",
       "      <td>0</td>\n",
       "      <td>0</td>\n",
       "      <td>0</td>\n",
       "    </tr>\n",
       "    <tr>\n",
       "      <th>6</th>\n",
       "      <td>68476668</td>\n",
       "      <td>50598.00</td>\n",
       "      <td>0</td>\n",
       "      <td>14.67</td>\n",
       "      <td>15681.05</td>\n",
       "      <td>20000.0</td>\n",
       "      <td>0</td>\n",
       "      <td>0</td>\n",
       "      <td>1</td>\n",
       "      <td>0</td>\n",
       "      <td>0</td>\n",
       "    </tr>\n",
       "    <tr>\n",
       "      <th>7</th>\n",
       "      <td>67275481</td>\n",
       "      <td>50623.00</td>\n",
       "      <td>1</td>\n",
       "      <td>17.61</td>\n",
       "      <td>14618.23</td>\n",
       "      <td>20000.0</td>\n",
       "      <td>0</td>\n",
       "      <td>0</td>\n",
       "      <td>1</td>\n",
       "      <td>0</td>\n",
       "      <td>0</td>\n",
       "    </tr>\n",
       "    <tr>\n",
       "      <th>8</th>\n",
       "      <td>68466926</td>\n",
       "      <td>90000.00</td>\n",
       "      <td>0</td>\n",
       "      <td>13.07</td>\n",
       "      <td>1814.48</td>\n",
       "      <td>10000.0</td>\n",
       "      <td>0</td>\n",
       "      <td>0</td>\n",
       "      <td>1</td>\n",
       "      <td>0</td>\n",
       "      <td>0</td>\n",
       "    </tr>\n",
       "    <tr>\n",
       "      <th>17</th>\n",
       "      <td>68577849</td>\n",
       "      <td>49492.00</td>\n",
       "      <td>0</td>\n",
       "      <td>8.68</td>\n",
       "      <td>18004.90</td>\n",
       "      <td>18000.0</td>\n",
       "      <td>0</td>\n",
       "      <td>0</td>\n",
       "      <td>1</td>\n",
       "      <td>0</td>\n",
       "      <td>0</td>\n",
       "    </tr>\n",
       "  </tbody>\n",
       "</table>\n",
       "</div>"
      ],
      "text/plain": [
       "          id  Target_Salary  Target_Satisfied    dti  last_pymnt_amnt  \\\n",
       "3   66310712       51907.68                 0  17.06           829.90   \n",
       "6   68476668       50598.00                 0  14.67         15681.05   \n",
       "7   67275481       50623.00                 1  17.61         14618.23   \n",
       "8   68466926       90000.00                 0  13.07          1814.48   \n",
       "17  68577849       49492.00                 0   8.68         18004.90   \n",
       "\n",
       "    LOAN_AMT  loan_status_Charged Off  loan_status_Current  \\\n",
       "3    35000.0                        0                    1   \n",
       "6    20000.0                        0                    0   \n",
       "7    20000.0                        0                    0   \n",
       "8    10000.0                        0                    0   \n",
       "17   18000.0                        0                    0   \n",
       "\n",
       "    loan_status_Fully Paid  loan_status_In Grace Period  \\\n",
       "3                        0                            0   \n",
       "6                        1                            0   \n",
       "7                        1                            0   \n",
       "8                        1                            0   \n",
       "17                       1                            0   \n",
       "\n",
       "    loan_status_Late (31-120 days)  \n",
       "3                                0  \n",
       "6                                0  \n",
       "7                                0  \n",
       "8                                0  \n",
       "17                               0  "
      ]
     },
     "execution_count": 35,
     "metadata": {},
     "output_type": "execute_result"
    }
   ],
   "source": [
    "df3.head()"
   ]
  },
  {
   "cell_type": "markdown",
   "metadata": {},
   "source": [
    "<h2 style='color:blue'>Feature Selection</h2>"
   ]
  },
  {
   "cell_type": "code",
   "execution_count": 36,
   "metadata": {},
   "outputs": [],
   "source": [
    "X = df3.drop('Target_Satisfied', axis=1)\n",
    "y = df3['Target_Satisfied']"
   ]
  },
  {
   "cell_type": "markdown",
   "metadata": {},
   "source": [
    "<h2 style='color:blue'>Train_Test_Split</h2>"
   ]
  },
  {
   "cell_type": "code",
   "execution_count": 37,
   "metadata": {},
   "outputs": [],
   "source": [
    "X_train,X_test,y_train,y_test=train_test_split(X,y,test_size=0.2,random_state=0)"
   ]
  },
  {
   "cell_type": "code",
   "execution_count": 38,
   "metadata": {},
   "outputs": [
    {
     "name": "stdout",
     "output_type": "stream",
     "text": [
      "Shape of train_dataset : (1114, 10) (1114,)\n",
      "Shape of train_dataset : (279, 10) (279,)\n"
     ]
    }
   ],
   "source": [
    "print('Shape of train_dataset :', X_train.shape, y_train.shape)\n",
    "print('Shape of train_dataset :', X_test.shape, y_test.shape)"
   ]
  },
  {
   "cell_type": "markdown",
   "metadata": {},
   "source": [
    "<h2 style='color:blue'>Model_Building for \"Target_Satisfied\"</h2>"
   ]
  },
  {
   "cell_type": "code",
   "execution_count": 39,
   "metadata": {},
   "outputs": [],
   "source": [
    "def compute(y_test,y_pred):\n",
    "    plt.figure(figsize=(7,3))\n",
    "    cm=confusion_matrix(y_test,y_pred)\n",
    "    class_label = [\"Target_Satisfied\", \"Target_Not_Satisfied\"]\n",
    "    df_cm = pd.DataFrame(cm, index=class_label,columns=class_label)\n",
    "    sns.heatmap(df_cm,annot=True,cmap='OrRd',linewidths=2,fmt='d')\n",
    "    plt.title(\"Confusion Matrix\",fontsize=15)\n",
    "    plt.xlabel(\"Predicted\")\n",
    "    plt.ylabel(\"True\")\n",
    "    plt.show()"
   ]
  },
  {
   "cell_type": "markdown",
   "metadata": {},
   "source": [
    "**RandomForestClassifier**"
   ]
  },
  {
   "cell_type": "code",
   "execution_count": 40,
   "metadata": {},
   "outputs": [
    {
     "name": "stdout",
     "output_type": "stream",
     "text": [
      "Execution time of model:0.61318 seconds\n"
     ]
    }
   ],
   "source": [
    "start = time.time()\n",
    "\n",
    "model_rf = RandomForestClassifier()\n",
    "model_rf.fit(X_train, y_train)\n",
    "y_pred = model_rf.predict(X_test)\n",
    "\n",
    "end = time.time()\n",
    "\n",
    "print(f'Execution time of model:{round((end - start), 5)} seconds')"
   ]
  },
  {
   "cell_type": "code",
   "execution_count": 41,
   "metadata": {},
   "outputs": [
    {
     "data": {
      "image/png": "[encoded data removed]",
      "text/plain": [
       "<Figure size 504x216 with 2 Axes>"
      ]
     },
     "metadata": {
      "needs_background": "light"
     },
     "output_type": "display_data"
    }
   ],
   "source": [
    "compute(y_test,y_pred)"
   ]
  },
  {
   "cell_type": "code",
   "execution_count": 42,
   "metadata": {
    "scrolled": true
   },
   "outputs": [
    {
     "data": {
      "text/plain": [
       "0.7491039426523297"
      ]
     },
     "execution_count": 42,
     "metadata": {},
     "output_type": "execute_result"
    }
   ],
   "source": [
    "model_rf.score(X_test, y_test)"
   ]
  },
  {
   "cell_type": "markdown",
   "metadata": {},
   "source": [
    "**DecisionTreeClassifier**"
   ]
  },
  {
   "cell_type": "code",
   "execution_count": 43,
   "metadata": {},
   "outputs": [
    {
     "name": "stdout",
     "output_type": "stream",
     "text": [
      "Execution time of model : 0.03235 seconds\n"
     ]
    }
   ],
   "source": [
    "start = time.time()\n",
    "\n",
    "model_DT = DecisionTreeClassifier()\n",
    "model_DT.fit(X_train, y_train)\n",
    "y_pred = model_DT.predict(X_test)\n",
    "\n",
    "end = time.time()\n",
    "\n",
    "print(f'Execution time of model : {round((end-start), 5)} seconds')\n"
   ]
  },
  {
   "cell_type": "code",
   "execution_count": 44,
   "metadata": {},
   "outputs": [
    {
     "data": {
      "image/png": "[encoded data removed]",
      "text/plain": [
       "<Figure size 504x216 with 2 Axes>"
      ]
     },
     "metadata": {
      "needs_background": "light"
     },
     "output_type": "display_data"
    }
   ],
   "source": [
    "compute(y_test,y_pred)"
   ]
  },
  {
   "cell_type": "code",
   "execution_count": 45,
   "metadata": {},
   "outputs": [
    {
     "data": {
      "text/plain": [
       "0.6379928315412187"
      ]
     },
     "execution_count": 45,
     "metadata": {},
     "output_type": "execute_result"
    }
   ],
   "source": [
    "model_DT.score(X_test, y_test)"
   ]
  },
  {
   "cell_type": "markdown",
   "metadata": {},
   "source": [
    "**LogisticRegression**"
   ]
  },
  {
   "cell_type": "code",
   "execution_count": 46,
   "metadata": {},
   "outputs": [
    {
     "name": "stdout",
     "output_type": "stream",
     "text": [
      "Execution time of model :0.08703 seconds\n"
     ]
    }
   ],
   "source": [
    "start = time.time()\n",
    "\n",
    "model_lr = LogisticRegression()\n",
    "model_lr.fit(X_train, y_train)\n",
    "y_pred = model_lr.predict(X_test)\n",
    "\n",
    "end = time.time() \n",
    "\n",
    "print(f'Execution time of model :{round((end-start), 5)} seconds')"
   ]
  },
  {
   "cell_type": "code",
   "execution_count": 47,
   "metadata": {},
   "outputs": [
    {
     "data": {
      "image/png": "[encoded data removed]",
      "text/plain": [
       "<Figure size 504x216 with 2 Axes>"
      ]
     },
     "metadata": {
      "needs_background": "light"
     },
     "output_type": "display_data"
    }
   ],
   "source": [
    "compute(y_test,y_pred)"
   ]
  },
  {
   "cell_type": "code",
   "execution_count": 48,
   "metadata": {},
   "outputs": [
    {
     "data": {
      "text/plain": [
       "0.7526881720430108"
      ]
     },
     "execution_count": 48,
     "metadata": {},
     "output_type": "execute_result"
    }
   ],
   "source": [
    "model_lr.score(X_test, y_test)"
   ]
  },
  {
   "cell_type": "markdown",
   "metadata": {},
   "source": [
    "**KNeighborsClassifier**"
   ]
  },
  {
   "cell_type": "code",
   "execution_count": 49,
   "metadata": {},
   "outputs": [
    {
     "name": "stdout",
     "output_type": "stream",
     "text": [
      "Execution time of model : 0.10003 seconds\n"
     ]
    }
   ],
   "source": [
    "start = time.time()\n",
    "\n",
    "model_knn = KNeighborsClassifier()\n",
    "model_knn.fit(X_train, y_train)\n",
    "y_pred = model_knn.predict(X_test)\n",
    "\n",
    "end = time.time()\n",
    "\n",
    "print(f'Execution time of model : {round((end - start), 5)} seconds')\n"
   ]
  },
  {
   "cell_type": "code",
   "execution_count": 50,
   "metadata": {},
   "outputs": [
    {
     "data": {
      "image/png": "[encoded data removed]",
      "text/plain": [
       "<Figure size 504x216 with 2 Axes>"
      ]
     },
     "metadata": {
      "needs_background": "light"
     },
     "output_type": "display_data"
    }
   ],
   "source": [
    "compute(y_test,y_pred)"
   ]
  },
  {
   "cell_type": "code",
   "execution_count": 51,
   "metadata": {},
   "outputs": [
    {
     "data": {
      "text/plain": [
       "0.7060931899641577"
      ]
     },
     "execution_count": 51,
     "metadata": {},
     "output_type": "execute_result"
    }
   ],
   "source": [
    "model_knn.score(X_test, y_test)"
   ]
  },
  {
   "cell_type": "markdown",
   "metadata": {},
   "source": [
    "**SVC**"
   ]
  },
  {
   "cell_type": "code",
   "execution_count": 52,
   "metadata": {},
   "outputs": [
    {
     "name": "stdout",
     "output_type": "stream",
     "text": [
      "Execution time of model: 0.11302 seconds\n"
     ]
    }
   ],
   "source": [
    "start = time.time()\n",
    "\n",
    "model_svm = SVC()\n",
    "model_svm.fit(X_train, y_train)\n",
    "y_pred = model_svm.predict(X_test)\n",
    "\n",
    "end = time.time()\n",
    "\n",
    "print(f'Execution time of model: {round((end - start), 5)} seconds')\n"
   ]
  },
  {
   "cell_type": "code",
   "execution_count": 53,
   "metadata": {},
   "outputs": [
    {
     "data": {
      "image/png": "[encoded data removed]",
      "text/plain": [
       "<Figure size 504x216 with 2 Axes>"
      ]
     },
     "metadata": {
      "needs_background": "light"
     },
     "output_type": "display_data"
    }
   ],
   "source": [
    "compute(y_test,y_pred)"
   ]
  },
  {
   "cell_type": "code",
   "execution_count": 54,
   "metadata": {},
   "outputs": [
    {
     "data": {
      "text/plain": [
       "0.7526881720430108"
      ]
     },
     "execution_count": 54,
     "metadata": {},
     "output_type": "execute_result"
    }
   ],
   "source": [
    "model_svm.score(X_test, y_test)"
   ]
  },
  {
   "cell_type": "markdown",
   "metadata": {},
   "source": [
    "**From above different model building we clearly observed that Logistic Regression and SVM gives high accuracy accourding to other model**"
   ]
  },
  {
   "cell_type": "markdown",
   "metadata": {},
   "source": [
    "<h2 style='color:blue'>Model_Building for \"Target_Salary\"</h2>"
   ]
  },
  {
   "cell_type": "code",
   "execution_count": 58,
   "metadata": {},
   "outputs": [],
   "source": [
    "X = df3.drop('Target_Salary', axis = 1)\n",
    "y = df3['Target_Salary']"
   ]
  },
  {
   "cell_type": "code",
   "execution_count": 59,
   "metadata": {},
   "outputs": [],
   "source": [
    "X_train,X_test,y_train,y_test = train_test_split(X,y,test_size=0.2,random_state=0)"
   ]
  },
  {
   "cell_type": "markdown",
   "metadata": {},
   "source": [
    "**RandomForestRegressor**"
   ]
  },
  {
   "cell_type": "code",
   "execution_count": 61,
   "metadata": {},
   "outputs": [
    {
     "name": "stdout",
     "output_type": "stream",
     "text": [
      "Execution time of model:1.17431 seconds\n"
     ]
    }
   ],
   "source": [
    "start = time.time()\n",
    "\n",
    "model_rfr = RandomForestRegressor()\n",
    "model_rfr.fit(X_train, y_train)\n",
    "\n",
    "end = time.time()\n",
    "\n",
    "print(f'Execution time of model:{round((end - start), 5)} seconds')"
   ]
  },
  {
   "cell_type": "code",
   "execution_count": 62,
   "metadata": {},
   "outputs": [],
   "source": [
    "y_pred = model_rfr.predict(X_test)"
   ]
  },
  {
   "cell_type": "code",
   "execution_count": 68,
   "metadata": {},
   "outputs": [
    {
     "data": {
      "text/plain": [
       "-0.09573564960392189"
      ]
     },
     "execution_count": 68,
     "metadata": {},
     "output_type": "execute_result"
    }
   ],
   "source": [
    "model_rfr.score(X_test, y_test)"
   ]
  },
  {
   "cell_type": "code",
   "execution_count": 80,
   "metadata": {},
   "outputs": [
    {
     "name": "stdout",
     "output_type": "stream",
     "text": [
      "RMSE: 2.8229114614145003\n"
     ]
    }
   ],
   "source": [
    "meanSquaredError=mean_squared_error(y_test, y_pred)\n",
    "rootMeanSquaredError = sqrt(meanSquaredError)/10000\n",
    "print(\"RMSE:\", rootMeanSquaredError)"
   ]
  },
  {
   "cell_type": "code",
   "execution_count": null,
   "metadata": {},
   "outputs": [],
   "source": []
  }
 ],
 "metadata": {
  "kernelspec": {
   "display_name": "Python 3",
   "language": "python",
   "name": "python3"
  },
  "language_info": {
   "codemirror_mode": {
    "name": "ipython",
    "version": 3
   },
   "file_extension": ".py",
   "mimetype": "text/x-python",
   "name": "python",
   "nbconvert_exporter": "python",
   "pygments_lexer": "ipython3",
   "version": "3.8.5"
  }
 },
 "nbformat": 4,
 "nbformat_minor": 4
}
